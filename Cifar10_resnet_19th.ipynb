{
  "cells": [
    {
      "cell_type": "code",
      "execution_count": null,
      "metadata": {
        "id": "jF3DIiTjC2sK"
      },
      "outputs": [],
      "source": [
        "from IPython.core.interactiveshell import InteractiveShell\n",
        "InteractiveShell.ast_node_interactivity = 'all'"
      ]
    },
    {
      "cell_type": "code",
      "execution_count": null,
      "metadata": {
        "colab": {
          "base_uri": "https://localhost:8080/",
          "height": 35
        },
        "id": "daZWKxi-ElA6",
        "outputId": "c3f876d8-81fe-4196-c2c1-9a428a5d8503"
      },
      "outputs": [
        {
          "output_type": "display_data",
          "data": {
            "application/javascript": [
              "IPython.notebook.set_autosave_interval(5000)"
            ]
          },
          "metadata": {}
        },
        {
          "output_type": "stream",
          "name": "stdout",
          "text": [
            "Autosaving every 5 seconds\n"
          ]
        }
      ],
      "source": [
        "import os\n",
        "import warnings\n",
        "warnings.filterwarnings('ignore')\n",
        "%autosave 5"
      ]
    },
    {
      "cell_type": "code",
      "execution_count": null,
      "metadata": {
        "id": "pzJePLkYerQ2"
      },
      "outputs": [],
      "source": [
        "# !pip -q install opencv-python\n",
        "# !pip -q install -U albumentations\n",
        "# !pip -q  install opencv-python-headless==4.5.2.52\n",
        "# !pip -q  install Pillow\n",
        "# !pip -q  install rf_calc\n",
        "# !pip -q install torch-lr-finder"
      ]
    },
    {
      "cell_type": "markdown",
      "metadata": {
        "id": "7in6dyw9dV4s"
      },
      "source": [
        ""
      ]
    },
    {
      "cell_type": "code",
      "execution_count": null,
      "metadata": {
        "id": "oIpjsAtb8qaF"
      },
      "outputs": [],
      "source": [
        "def module_refresh():\n",
        "    import os\n",
        "    if 'strixbee' in os.listdir():\n",
        "        os.system(\"rm -rf strixbee\")\n",
        "        !git clone https://github.com/Code-Trees/strixbee.git\n",
        "    else:\n",
        "        !git clone https://github.com/Code-Trees/strixbee.git"
      ]
    },
    {
      "cell_type": "code",
      "execution_count": null,
      "metadata": {
        "id": "KFxxp_ogCnY-"
      },
      "outputs": [],
      "source": [
        "# module_refresh()"
      ]
    },
    {
      "cell_type": "code",
      "execution_count": null,
      "metadata": {
        "id": "WiqafkeSAFC7"
      },
      "outputs": [],
      "source": [
        "try:\n",
        "    #main.py\n",
        "    import warnings\n",
        "    warnings.filterwarnings('ignore')\n",
        "\n",
        "    import numpy as np\n",
        "    import torch\n",
        "    import torch.nn.functional as F\n",
        "    import torch.nn as nn\n",
        "\n",
        "    from torch.optim import SGD\n",
        "    from torch.utils.data import DataLoader\n",
        "    from torch.utils.data.dataset import Dataset\n",
        "    from torch.optim.lr_scheduler import StepLR\n",
        "\n",
        "    from torchvision import transforms,datasets\n",
        "\n",
        "    import numpy as np\n",
        "    import matplotlib.pyplot as plt\n",
        "    from torchsummary import summary\n",
        "    import random\n",
        "    import seaborn as sns\n",
        "    import gc\n",
        "\n",
        "    import albumentations as A\n",
        "    from albumentations.augmentations.geometric.resize import Resize\n",
        "    from albumentations.pytorch.transforms import ToTensorV2\n",
        "\n",
        "    from rf_calc import receptive_field\n",
        "    import seaborn as sns\n",
        "    import matplotlib.pyplot as plt\n",
        "except:\n",
        "    !pip -q install opencv-python\n",
        "    !pip -q install -U albumentations\n",
        "    !pip -q  install opencv-python-headless==4.5.2.52\n",
        "    !pip -q  install Pillow\n",
        "    !pip -q  install rf_calc\n",
        "    !pip -q install torch-lr-finder\n",
        "\n",
        "    import warnings\n",
        "    warnings.filterwarnings('ignore')\n",
        "\n",
        "    import numpy as np\n",
        "    import torch\n",
        "    import torch.nn.functional as F\n",
        "    import torch.nn as nn\n",
        "\n",
        "    from torch.optim import SGD\n",
        "    from torch.utils.data import DataLoader\n",
        "    from torch.utils.data.dataset import Dataset\n",
        "    from torch.optim.lr_scheduler import StepLR\n",
        "\n",
        "    from torchvision import transforms,datasets\n",
        "\n",
        "    import numpy as np\n",
        "    import matplotlib.pyplot as plt\n",
        "    from torchsummary import summary\n",
        "    import random\n",
        "    import seaborn as sns\n",
        "    import gc\n",
        "\n",
        "    import albumentations as A\n",
        "    from albumentations.augmentations.geometric.resize import Resize\n",
        "    from albumentations.pytorch.transforms import ToTensorV2\n",
        "\n",
        "    from rf_calc import receptive_field\n",
        "    import seaborn as sns\n",
        "    import matplotlib.pyplot as plt"
      ]
    },
    {
      "cell_type": "code",
      "execution_count": null,
      "metadata": {
        "id": "iHB2dQ6OIXy6",
        "colab": {
          "base_uri": "https://localhost:8080/",
          "height": 72
        },
        "outputId": "703946fe-7563-486b-b66f-f519dd2f0476"
      },
      "outputs": [
        {
          "output_type": "stream",
          "name": "stdout",
          "text": [
            "Files already downloaded and verified\n",
            "Files already downloaded and verified\n"
          ]
        },
        {
          "output_type": "display_data",
          "data": {
            "text/plain": [
              "<Figure size 1080x360 with 0 Axes>"
            ]
          },
          "metadata": {}
        }
      ],
      "source": [
        "from strixbee.utils.data_iter import get_data,get_data_stats\n",
        "from strixbee.utils.data_transforms import AlbumDataset\n",
        "from strixbee.utils.optimizer_utils import *\n",
        "from strixbee.utils.train_test import *\n",
        "from strixbee.utils.gpu import clean_gpu\n",
        "from strixbee.utils.plots import * \n",
        "from strixbee.utils import *\n",
        "from strixbee.model.cifar10_model import Cifar10Net1"
      ]
    },
    {
      "cell_type": "code",
      "execution_count": null,
      "metadata": {
        "id": "UsL4monMJYpi",
        "colab": {
          "base_uri": "https://localhost:8080/",
          "height": 440
        },
        "outputId": "d8a073b7-dd23-4aca-fcb5-34adda887d59"
      },
      "outputs": [
        {
          "output_type": "stream",
          "name": "stdout",
          "text": [
            "Files already downloaded and verified\n",
            "Files already downloaded and verified\n",
            "Train Shape: (50000, 32, 32, 3) Test Shape: (10000, 32, 32, 3) \n",
            "\n"
          ]
        },
        {
          "output_type": "display_data",
          "data": {
            "image/png": "[encoded data removed]",
            "text/plain": [
              "<Figure size 2160x2160 with 10 Axes>"
            ]
          },
          "metadata": {
            "needs_background": "light"
          }
        },
        {
          "output_type": "display_data",
          "data": {
            "image/png": "[encoded data removed]",
            "text/plain": [
              "<Figure size 2160x2160 with 10 Axes>"
            ]
          },
          "metadata": {
            "needs_background": "light"
          }
        }
      ],
      "source": [
        "labels = {0:'airplane',1:'automobile',2:'bird',3:'cat',4:'deer',5:'dog',6:'frog',7:'horse',8:'ship',9:'truck'}\n",
        "train,test = get_data()\n",
        "print(f\"Train Shape: {train.data.shape} Test Shape: {test.data.shape} \\n\")\n",
        "plot_unique_images(train,labels =labels)\n",
        "plot_unique_images(train,labels =labels)"
      ]
    },
    {
      "cell_type": "code",
      "execution_count": null,
      "metadata": {
        "id": "5k0pyl67JhPT",
        "colab": {
          "base_uri": "https://localhost:8080/",
          "height": 35
        },
        "outputId": "13f6c063-43a9-4775-a923-3e015591a090"
      },
      "outputs": [
        {
          "output_type": "display_data",
          "data": {
            "text/plain": [
              "<Figure size 720x360 with 0 Axes>"
            ]
          },
          "metadata": {}
        }
      ],
      "source": [
        "mean,std  = get_data_stats(train,test,img_norm_typ ='train+test',plot = False)"
      ]
    },
    {
      "cell_type": "markdown",
      "source": [
        "0.49186877885008395, 0.48265390516493006, 0.44717727749693653)(0.2469712143255279, 0.24338893940434994, 0.2615925905215076"
      ],
      "metadata": {
        "id": "Cm79kv8BpOG7"
      }
    },
    {
      "cell_type": "code",
      "execution_count": null,
      "metadata": {
        "id": "tEtQqJKldCBv"
      },
      "outputs": [],
      "source": [
        "# #ReduceLROnPlatue\n",
        "\n",
        "# #Advanced Normalization\n",
        "# train_transform =A.Compose([A.Resize(32,32),\n",
        "#                             A.Normalize(mean = mean,std = std,max_pixel_value=255,always_apply = True),\n",
        "#                                 A.ShiftScaleRotate(always_apply=False),\n",
        "#                                 A.CoarseDropout(always_apply = False,max_holes = 1, max_height=16, max_width=16, min_holes = 1, min_height=16, min_width=16, fill_value=mean, mask_fill_value = None),\n",
        "#                             ToTensorV2(transpose_mask =False),\n",
        "#                                 ])      \n",
        "# test_transform = A.Compose([A.Resize(32,32),\n",
        "#                                 A.Normalize(mean = mean,std = std,max_pixel_value=255,always_apply = True),\n",
        "#                             ToTensorV2(transpose_mask =False), ])\n",
        "                            \n",
        "# train_alb = AlbumDataset(train,train_transform)\n",
        "# test_alb = AlbumDataset(test,test_transform)\n",
        "\n",
        "# batch_size = 64\n",
        "# args = {'pin_memory':True,'num_workers':4} if torch.cuda.is_available() else {}\n",
        "# train_loader = DataLoader(train_alb,batch_size=batch_size,shuffle = True,**args)\n",
        "# test_loader = DataLoader(test_alb,batch_size=batch_size,**args)"
      ]
    },
    {
      "cell_type": "code",
      "execution_count": null,
      "metadata": {
        "id": "6taOvLUgdBaf"
      },
      "outputs": [],
      "source": [
        "# demo_model = Cifar10Net1(dropout_val=0.00,norm_type='bn')\n",
        "# lr = run_lrfinder(demo_model,train_loader,test_loader,loops = 2)"
      ]
    },
    {
      "cell_type": "code",
      "execution_count": null,
      "metadata": {
        "id": "ENtfy2VoeVw3"
      },
      "outputs": [],
      "source": [
        "# lr\n",
        "# 0.016496480740980205\n",
        "# 0.0818546730706902"
      ]
    },
    {
      "cell_type": "code",
      "execution_count": null,
      "metadata": {
        "id": "N13QfWMzeatO"
      },
      "outputs": [],
      "source": [
        "def get_lr(optimizer):\n",
        "    for param_group in optimizer.param_groups:\n",
        "        return param_group['lr']"
      ]
    },
    {
      "cell_type": "code",
      "source": [
        "\n"
      ],
      "metadata": {
        "id": "1hwXVXMNej_e"
      },
      "execution_count": null,
      "outputs": []
    },
    {
      "cell_type": "code",
      "execution_count": null,
      "metadata": {
        "id": "ti_OEGETIVW6"
      },
      "outputs": [],
      "source": [
        "def Run_Model(model_class,train_loader,test_loader,epochs , L1 = False):\n",
        "    \n",
        "    device = \"cuda\" if torch.cuda.is_available() else \"cpu\"\n",
        "    print (f'running on {device} \\n')\n",
        "    #take input as normal_type ['gbn','bn','gn','ln']\n",
        "    model = model_class.to(device)\n",
        "    try:\n",
        "        # print(summary(model,input_size = (3,32,32)))\n",
        "        pass\n",
        "    except:\n",
        "        pass\n",
        "\n",
        "    optimizer,scheduler = get_optimizer(model,lr =0.01,scheduler = True,scheduler_type = 'steplr')\n",
        "    # optimizer,scheduler = get_optimizer(model,scheduler = True )\n",
        "    # optimizer = SGD( params = model.parameters(),lr = 0.01,momentum = 0.9)\n",
        "    # scheduler = StepLR(optimizer,step_size = 20,gamma = 0.1)\n",
        "\n",
        "    train_losses = []\n",
        "    train_accuracy = []\n",
        "    test_losses =[]\n",
        "    test_accuracy = []\n",
        "\n",
        "    for EPOCHS in range(0,epochs):\n",
        "        if L1 == True:\n",
        "            train_loss, train_acc = trainning(model,device,train_loader,optimizer,EPOCHS,L1 = L1)\n",
        "            train_losses.append(train_loss)\n",
        "            train_accuracy.append(train_acc)\n",
        "        else:\n",
        "            train_loss, train_acc = trainning(model,device,train_loader,optimizer,EPOCHS)\n",
        "            train_losses.append(train_loss)\n",
        "            train_accuracy.append(train_acc)\n",
        "\n",
        "        test_loss,test_acc = testing(model,device,test_loader,optimizer,EPOCHS)\n",
        "\n",
        "        test_accuracy.append(test_acc)\n",
        "        test_losses.append(test_loss)\n",
        "        \n",
        "        scheduler.step()\n",
        "        try:\n",
        "            if (EPOCHS >=3)&(max(test_accuracy[:-1]) < test_accuracy[-1]) & (max(test_accuracy) >= .78):\n",
        "                checkpoint = {'epoch': EPOCHS + 1,'valid_loss_min': test_losses[-1],'state_dict': model.state_dict(),'optimizer': optimizer.state_dict(),} # Export to TorchScript\n",
        "                torch.save(checkpoint ,'./Model_cifar10.pt') # Save\n",
        "                print (f\" Target Achieved: {max(test_accuracy)*100}% Test Accuracy !!\")\n",
        "        except:\n",
        "            print('Model Saving Failed !!')\n",
        "\n",
        "        print (\"LR :{}\\n\".format(scheduler.get_lr()[0]))\n",
        "    return model,train_losses, train_accuracy,test_losses,test_accuracy\n"
      ]
    },
    {
      "cell_type": "code",
      "source": [
        "# train_transform =A.Compose([A.Resize(32,32),\n",
        "#                             A.Normalize(mean = mean,std = std,max_pixel_value=255,always_apply = True),\n",
        "#                              A.ShiftScaleRotate(always_apply=False),\n",
        "#                              A.CoarseDropout(always_apply = False,max_holes = 1, max_height=16, max_width=16, min_holes = 1, min_height=16, min_width=16, fill_value=mean, mask_fill_value = None),\n",
        "#                             ToTensorV2(transpose_mask =False),\n",
        "#                              ])      \n",
        "# test_transform = A.Compose([A.Resize(32,32),\n",
        "#                              A.Normalize(mean = mean,std = std,max_pixel_value=255,always_apply = True),\n",
        "#                            ToTensorV2(transpose_mask =False), ])"
      ],
      "metadata": {
        "id": "E11b_9Wq_lYo"
      },
      "execution_count": null,
      "outputs": []
    },
    {
      "cell_type": "code",
      "execution_count": null,
      "metadata": {
        "id": "sjRPQ_LpeIMA",
        "colab": {
          "base_uri": "https://localhost:8080/",
          "height": 1000
        },
        "outputId": "c18a43a8-5d52-4bc1-bd50-fa0572f97c24"
      },
      "outputs": [
        {
          "output_type": "stream",
          "name": "stdout",
          "text": [
            "Files already downloaded and verified\n",
            "Files already downloaded and verified\n",
            "running on cuda \n",
            "\n"
          ]
        },
        {
          "output_type": "stream",
          "name": "stderr",
          "text": [
            "Train ==> Epochs: 0 Batch:  781 loss: 1.614363193511963 Accuracy: 35.27% : 100%|██████████| 782/782 [00:11<00:00, 65.70it/s]\n",
            "Test ==> Epochs: 0 Batch:  781 loss: 0.022753037815093993 Accuracy: 47.14% : 100%|██████████| 782/782 [00:06<00:00, 125.16it/s]\n"
          ]
        },
        {
          "output_type": "stream",
          "name": "stdout",
          "text": [
            "Model Saving Failed !!\n",
            "LR :0.01\n",
            "\n"
          ]
        },
        {
          "output_type": "stream",
          "name": "stderr",
          "text": [
            "Train ==> Epochs: 1 Batch:  781 loss: 1.6030168533325195 Accuracy: 47.12% : 100%|██████████| 782/782 [00:12<00:00, 64.17it/s]\n",
            "Test ==> Epochs: 1 Batch:  781 loss: 0.02008678116440773 Accuracy: 54.15% : 100%|██████████| 782/782 [00:06<00:00, 125.19it/s]\n"
          ]
        },
        {
          "output_type": "stream",
          "name": "stdout",
          "text": [
            "LR :0.01\n",
            "\n"
          ]
        },
        {
          "output_type": "stream",
          "name": "stderr",
          "text": [
            "Train ==> Epochs: 2 Batch:  781 loss: 1.0980006456375122 Accuracy: 51.67% : 100%|██████████| 782/782 [00:11<00:00, 66.46it/s]\n",
            "Test ==> Epochs: 2 Batch:  781 loss: 0.016950812324285507 Accuracy: 61.16% : 100%|██████████| 782/782 [00:06<00:00, 123.30it/s]\n"
          ]
        },
        {
          "output_type": "stream",
          "name": "stdout",
          "text": [
            "LR :0.01\n",
            "\n"
          ]
        },
        {
          "output_type": "stream",
          "name": "stderr",
          "text": [
            "Train ==> Epochs: 3 Batch:  781 loss: 1.0565241575241089 Accuracy: 55.52% : 100%|██████████| 782/782 [00:11<00:00, 66.64it/s]\n",
            "Test ==> Epochs: 3 Batch:  781 loss: 0.017264118053913115 Accuracy: 60.98% : 100%|██████████| 782/782 [00:06<00:00, 121.58it/s]\n"
          ]
        },
        {
          "output_type": "stream",
          "name": "stdout",
          "text": [
            "LR :0.01\n",
            "\n"
          ]
        },
        {
          "output_type": "stream",
          "name": "stderr",
          "text": [
            "Train ==> Epochs: 4 Batch:  781 loss: 1.5901532173156738 Accuracy: 57.97% : 100%|██████████| 782/782 [00:12<00:00, 64.44it/s]\n",
            "Test ==> Epochs: 4 Batch:  781 loss: 0.01459658211708069 Accuracy: 67.46% : 100%|██████████| 782/782 [00:06<00:00, 123.16it/s]\n"
          ]
        },
        {
          "output_type": "stream",
          "name": "stdout",
          "text": [
            "LR :0.01\n",
            "\n"
          ]
        },
        {
          "output_type": "stream",
          "name": "stderr",
          "text": [
            "Train ==> Epochs: 5 Batch:  781 loss: 1.2139967679977417 Accuracy: 59.58% : 100%|██████████| 782/782 [00:11<00:00, 65.39it/s]\n",
            "Test ==> Epochs: 5 Batch:  781 loss: 0.013015205726623536 Accuracy: 70.55% : 100%|██████████| 782/782 [00:06<00:00, 125.48it/s]\n"
          ]
        },
        {
          "output_type": "stream",
          "name": "stdout",
          "text": [
            "LR :0.01\n",
            "\n"
          ]
        },
        {
          "output_type": "stream",
          "name": "stderr",
          "text": [
            "Train ==> Epochs: 6 Batch:  781 loss: 1.0405259132385254 Accuracy: 61.08% : 100%|██████████| 782/782 [00:11<00:00, 66.89it/s]\n",
            "Test ==> Epochs: 6 Batch:  781 loss: 0.014054667345285416 Accuracy: 68.68% : 100%|██████████| 782/782 [00:06<00:00, 125.74it/s]\n"
          ]
        },
        {
          "output_type": "stream",
          "name": "stdout",
          "text": [
            "LR :0.01\n",
            "\n"
          ]
        },
        {
          "output_type": "stream",
          "name": "stderr",
          "text": [
            "Train ==> Epochs: 7 Batch:  781 loss: 0.7212304472923279 Accuracy: 62.29% : 100%|██████████| 782/782 [00:11<00:00, 65.38it/s]\n",
            "Test ==> Epochs: 7 Batch:  781 loss: 0.012762027661204338 Accuracy: 71.64% : 100%|██████████| 782/782 [00:06<00:00, 122.70it/s]\n"
          ]
        },
        {
          "output_type": "stream",
          "name": "stdout",
          "text": [
            "LR :0.01\n",
            "\n"
          ]
        },
        {
          "output_type": "stream",
          "name": "stderr",
          "text": [
            "Train ==> Epochs: 8 Batch:  781 loss: 0.6392428874969482 Accuracy: 63.63% : 100%|██████████| 782/782 [00:11<00:00, 66.74it/s]\n",
            "Test ==> Epochs: 8 Batch:  781 loss: 0.01319294136583805 Accuracy: 70.03% : 100%|██████████| 782/782 [00:06<00:00, 125.40it/s]\n"
          ]
        },
        {
          "output_type": "stream",
          "name": "stdout",
          "text": [
            "LR :0.01\n",
            "\n"
          ]
        },
        {
          "output_type": "stream",
          "name": "stderr",
          "text": [
            "Train ==> Epochs: 9 Batch:  781 loss: 0.8683590888977051 Accuracy: 64.61% : 100%|██████████| 782/782 [00:11<00:00, 65.48it/s]\n",
            "Test ==> Epochs: 9 Batch:  781 loss: 0.01137888928771019 Accuracy: 74.83% : 100%|██████████| 782/782 [00:06<00:00, 121.68it/s]\n"
          ]
        },
        {
          "output_type": "stream",
          "name": "stdout",
          "text": [
            "LR :0.01\n",
            "\n"
          ]
        },
        {
          "output_type": "stream",
          "name": "stderr",
          "text": [
            "Train ==> Epochs: 10 Batch:  781 loss: 0.6009251475334167 Accuracy: 65.37% : 100%|██████████| 782/782 [00:12<00:00, 65.09it/s]\n",
            "Test ==> Epochs: 10 Batch:  781 loss: 0.01258477004647255 Accuracy: 71.75% : 100%|██████████| 782/782 [00:06<00:00, 121.38it/s]\n"
          ]
        },
        {
          "output_type": "stream",
          "name": "stdout",
          "text": [
            "LR :0.01\n",
            "\n"
          ]
        },
        {
          "output_type": "stream",
          "name": "stderr",
          "text": [
            "Train ==> Epochs: 11 Batch:  781 loss: 0.9765670299530029 Accuracy: 66.46% : 100%|██████████| 782/782 [00:11<00:00, 65.79it/s]\n",
            "Test ==> Epochs: 11 Batch:  781 loss: 0.010801763924956322 Accuracy: 75.90% : 100%|██████████| 782/782 [00:06<00:00, 121.81it/s]\n"
          ]
        },
        {
          "output_type": "stream",
          "name": "stdout",
          "text": [
            "LR :0.01\n",
            "\n"
          ]
        },
        {
          "output_type": "stream",
          "name": "stderr",
          "text": [
            "Train ==> Epochs: 12 Batch:  781 loss: 1.5523402690887451 Accuracy: 67.02% : 100%|██████████| 782/782 [00:11<00:00, 66.28it/s]\n",
            "Test ==> Epochs: 12 Batch:  781 loss: 0.010937930653691292 Accuracy: 75.69% : 100%|██████████| 782/782 [00:06<00:00, 123.91it/s]\n"
          ]
        },
        {
          "output_type": "stream",
          "name": "stdout",
          "text": [
            "LR :0.01\n",
            "\n"
          ]
        },
        {
          "output_type": "stream",
          "name": "stderr",
          "text": [
            "Train ==> Epochs: 13 Batch:  781 loss: 1.0410300493240356 Accuracy: 67.31% : 100%|██████████| 782/782 [00:11<00:00, 65.50it/s]\n",
            "Test ==> Epochs: 13 Batch:  781 loss: 0.010768365806937217 Accuracy: 75.77% : 100%|██████████| 782/782 [00:06<00:00, 123.24it/s]\n"
          ]
        },
        {
          "output_type": "stream",
          "name": "stdout",
          "text": [
            "LR :0.01\n",
            "\n"
          ]
        },
        {
          "output_type": "stream",
          "name": "stderr",
          "text": [
            "Train ==> Epochs: 14 Batch:  781 loss: 0.8273208141326904 Accuracy: 68.09% : 100%|██████████| 782/782 [00:11<00:00, 66.88it/s]\n",
            "Test ==> Epochs: 14 Batch:  781 loss: 0.00932826154768467 Accuracy: 79.20% : 100%|██████████| 782/782 [00:06<00:00, 124.35it/s]\n"
          ]
        },
        {
          "output_type": "stream",
          "name": "stdout",
          "text": [
            " Target Achieved: 79.19800000000001% Test Accuracy !!\n",
            "LR :0.01\n",
            "\n"
          ]
        },
        {
          "output_type": "stream",
          "name": "stderr",
          "text": [
            "Train ==> Epochs: 15 Batch:  781 loss: 1.4173380136489868 Accuracy: 68.34% : 100%|██████████| 782/782 [00:11<00:00, 66.29it/s]\n",
            "Test ==> Epochs: 15 Batch:  781 loss: 0.00919998508065939 Accuracy: 79.53% : 100%|██████████| 782/782 [00:06<00:00, 126.26it/s]\n"
          ]
        },
        {
          "output_type": "stream",
          "name": "stdout",
          "text": [
            " Target Achieved: 79.534% Test Accuracy !!\n",
            "LR :0.01\n",
            "\n"
          ]
        },
        {
          "output_type": "stream",
          "name": "stderr",
          "text": [
            "Train ==> Epochs: 16 Batch:  781 loss: 1.1958028078079224 Accuracy: 68.47% : 100%|██████████| 782/782 [00:11<00:00, 66.89it/s]\n",
            "Test ==> Epochs: 16 Batch:  781 loss: 0.009077450852394104 Accuracy: 79.86% : 100%|██████████| 782/782 [00:06<00:00, 122.05it/s]\n"
          ]
        },
        {
          "output_type": "stream",
          "name": "stdout",
          "text": [
            " Target Achieved: 79.85600000000001% Test Accuracy !!\n",
            "LR :0.01\n",
            "\n"
          ]
        },
        {
          "output_type": "stream",
          "name": "stderr",
          "text": [
            "Train ==> Epochs: 17 Batch:  781 loss: 1.114548921585083 Accuracy: 69.47% : 100%|██████████| 782/782 [00:11<00:00, 66.35it/s]\n",
            "Test ==> Epochs: 17 Batch:  781 loss: 0.009463457391858101 Accuracy: 78.96% : 100%|██████████| 782/782 [00:06<00:00, 123.37it/s]\n"
          ]
        },
        {
          "output_type": "stream",
          "name": "stdout",
          "text": [
            "LR :0.01\n",
            "\n"
          ]
        },
        {
          "output_type": "stream",
          "name": "stderr",
          "text": [
            "Train ==> Epochs: 18 Batch:  781 loss: 0.7766478657722473 Accuracy: 69.72% : 100%|██████████| 782/782 [00:11<00:00, 65.87it/s]\n",
            "Test ==> Epochs: 18 Batch:  781 loss: 0.00902936658859253 Accuracy: 79.85% : 100%|██████████| 782/782 [00:06<00:00, 123.48it/s]\n"
          ]
        },
        {
          "output_type": "stream",
          "name": "stdout",
          "text": [
            "LR :0.01\n",
            "\n"
          ]
        },
        {
          "output_type": "stream",
          "name": "stderr",
          "text": [
            "Train ==> Epochs: 19 Batch:  781 loss: 1.280038595199585 Accuracy: 70.19% : 100%|██████████| 782/782 [00:11<00:00, 65.58it/s]\n",
            "Test ==> Epochs: 19 Batch:  781 loss: 0.009481220789551735 Accuracy: 78.76% : 100%|██████████| 782/782 [00:06<00:00, 124.47it/s]\n"
          ]
        },
        {
          "output_type": "stream",
          "name": "stdout",
          "text": [
            "LR :0.0001\n",
            "\n"
          ]
        },
        {
          "output_type": "stream",
          "name": "stderr",
          "text": [
            "Train ==> Epochs: 20 Batch:  781 loss: 0.8902420997619629 Accuracy: 72.67% : 100%|██████████| 782/782 [00:11<00:00, 66.31it/s]\n",
            "Test ==> Epochs: 20 Batch:  781 loss: 0.0072334690526127815 Accuracy: 84.17% : 100%|██████████| 782/782 [00:06<00:00, 123.23it/s]\n"
          ]
        },
        {
          "output_type": "stream",
          "name": "stdout",
          "text": [
            " Target Achieved: 84.166% Test Accuracy !!\n",
            "LR :0.001\n",
            "\n"
          ]
        },
        {
          "output_type": "stream",
          "name": "stderr",
          "text": [
            "Train ==> Epochs: 21 Batch:  781 loss: 0.9984609484672546 Accuracy: 73.37% : 100%|██████████| 782/782 [00:12<00:00, 65.02it/s]\n",
            "Test ==> Epochs: 21 Batch:  781 loss: 0.007190547470450401 Accuracy: 84.18% : 100%|██████████| 782/782 [00:06<00:00, 122.19it/s]\n"
          ]
        },
        {
          "output_type": "stream",
          "name": "stdout",
          "text": [
            " Target Achieved: 84.184% Test Accuracy !!\n",
            "LR :0.001\n",
            "\n"
          ]
        },
        {
          "output_type": "stream",
          "name": "stderr",
          "text": [
            "Train ==> Epochs: 22 Batch:  781 loss: 0.7682217359542847 Accuracy: 73.77% : 100%|██████████| 782/782 [00:12<00:00, 65.16it/s]\n",
            "Test ==> Epochs: 22 Batch:  781 loss: 0.007021549333333969 Accuracy: 84.72% : 100%|██████████| 782/782 [00:06<00:00, 120.81it/s]\n"
          ]
        },
        {
          "output_type": "stream",
          "name": "stdout",
          "text": [
            " Target Achieved: 84.72% Test Accuracy !!\n",
            "LR :0.001\n",
            "\n"
          ]
        },
        {
          "output_type": "stream",
          "name": "stderr",
          "text": [
            "Train ==> Epochs: 23 Batch:  781 loss: 0.7743814587593079 Accuracy: 73.75% : 100%|██████████| 782/782 [00:11<00:00, 65.45it/s]\n",
            "Test ==> Epochs: 23 Batch:  781 loss: 0.0068962199801206586 Accuracy: 84.94% : 100%|██████████| 782/782 [00:06<00:00, 121.14it/s]\n"
          ]
        },
        {
          "output_type": "stream",
          "name": "stdout",
          "text": [
            " Target Achieved: 84.942% Test Accuracy !!\n",
            "LR :0.001\n",
            "\n"
          ]
        },
        {
          "output_type": "stream",
          "name": "stderr",
          "text": [
            "Train ==> Epochs: 24 Batch:  781 loss: 0.857744574546814 Accuracy: 73.69% : 100%|██████████| 782/782 [00:11<00:00, 65.42it/s]\n",
            "Test ==> Epochs: 24 Batch:  781 loss: 0.006857878055870533 Accuracy: 84.95% : 100%|██████████| 782/782 [00:06<00:00, 123.86it/s]\n"
          ]
        },
        {
          "output_type": "stream",
          "name": "stdout",
          "text": [
            " Target Achieved: 84.954% Test Accuracy !!\n",
            "LR :0.001\n",
            "\n"
          ]
        },
        {
          "output_type": "stream",
          "name": "stderr",
          "text": [
            "Train ==> Epochs: 25 Batch:  781 loss: 0.7563661932945251 Accuracy: 74.17% : 100%|██████████| 782/782 [00:11<00:00, 65.99it/s]\n",
            "Test ==> Epochs: 25 Batch:  781 loss: 0.006760043902099133 Accuracy: 85.12% : 100%|██████████| 782/782 [00:06<00:00, 122.71it/s]\n"
          ]
        },
        {
          "output_type": "stream",
          "name": "stdout",
          "text": [
            " Target Achieved: 85.124% Test Accuracy !!\n",
            "LR :0.001\n",
            "\n"
          ]
        },
        {
          "output_type": "stream",
          "name": "stderr",
          "text": [
            "Train ==> Epochs: 26 Batch:  781 loss: 0.9444796442985535 Accuracy: 74.22% : 100%|██████████| 782/782 [00:11<00:00, 66.22it/s]\n",
            "Test ==> Epochs: 26 Batch:  781 loss: 0.0067392664214968685 Accuracy: 85.27% : 100%|██████████| 782/782 [00:06<00:00, 123.10it/s]\n"
          ]
        },
        {
          "output_type": "stream",
          "name": "stdout",
          "text": [
            " Target Achieved: 85.268% Test Accuracy !!\n",
            "LR :0.001\n",
            "\n"
          ]
        },
        {
          "output_type": "stream",
          "name": "stderr",
          "text": [
            "Train ==> Epochs: 27 Batch:  781 loss: 1.1944174766540527 Accuracy: 73.98% : 100%|██████████| 782/782 [00:11<00:00, 65.63it/s]\n",
            "Test ==> Epochs: 27 Batch:  781 loss: 0.006692065424323082 Accuracy: 85.32% : 100%|██████████| 782/782 [00:06<00:00, 122.58it/s]\n"
          ]
        },
        {
          "output_type": "stream",
          "name": "stdout",
          "text": [
            " Target Achieved: 85.316% Test Accuracy !!\n",
            "LR :0.001\n",
            "\n"
          ]
        },
        {
          "output_type": "stream",
          "name": "stderr",
          "text": [
            "Train ==> Epochs: 28 Batch:  781 loss: 0.47156524658203125 Accuracy: 74.33% : 100%|██████████| 782/782 [00:12<00:00, 64.85it/s]\n",
            "Test ==> Epochs: 28 Batch:  781 loss: 0.00661544812887907 Accuracy: 85.56% : 100%|██████████| 782/782 [00:06<00:00, 123.24it/s]\n"
          ]
        },
        {
          "output_type": "stream",
          "name": "stdout",
          "text": [
            " Target Achieved: 85.56% Test Accuracy !!\n",
            "LR :0.001\n",
            "\n"
          ]
        },
        {
          "output_type": "stream",
          "name": "stderr",
          "text": [
            "Train ==> Epochs: 29 Batch:  781 loss: 0.39980199933052063 Accuracy: 74.32% : 100%|██████████| 782/782 [00:11<00:00, 65.56it/s]\n",
            "Test ==> Epochs: 29 Batch:  781 loss: 0.006559607684910297 Accuracy: 85.58% : 100%|██████████| 782/782 [00:06<00:00, 122.80it/s]\n"
          ]
        },
        {
          "output_type": "stream",
          "name": "stdout",
          "text": [
            " Target Achieved: 85.58200000000001% Test Accuracy !!\n",
            "LR :0.001\n",
            "\n"
          ]
        },
        {
          "output_type": "stream",
          "name": "stderr",
          "text": [
            "Train ==> Epochs: 30 Batch:  781 loss: 0.7365477085113525 Accuracy: 74.57% : 100%|██████████| 782/782 [00:12<00:00, 64.46it/s]\n",
            "Test ==> Epochs: 30 Batch:  781 loss: 0.006491572204828262 Accuracy: 85.87% : 100%|██████████| 782/782 [00:06<00:00, 121.23it/s]\n"
          ]
        },
        {
          "output_type": "stream",
          "name": "stdout",
          "text": [
            " Target Achieved: 85.87% Test Accuracy !!\n",
            "LR :0.001\n",
            "\n"
          ]
        },
        {
          "output_type": "stream",
          "name": "stderr",
          "text": [
            "Train ==> Epochs: 31 Batch:  781 loss: 0.8876914978027344 Accuracy: 74.38% : 100%|██████████| 782/782 [00:11<00:00, 65.83it/s]\n",
            "Test ==> Epochs: 31 Batch:  781 loss: 0.006479187444895506 Accuracy: 85.74% : 100%|██████████| 782/782 [00:06<00:00, 123.56it/s]\n"
          ]
        },
        {
          "output_type": "stream",
          "name": "stdout",
          "text": [
            "LR :0.001\n",
            "\n"
          ]
        },
        {
          "output_type": "stream",
          "name": "stderr",
          "text": [
            "Train ==> Epochs: 32 Batch:  781 loss: 0.5496484041213989 Accuracy: 74.57% : 100%|██████████| 782/782 [00:12<00:00, 65.01it/s]\n",
            "Test ==> Epochs: 32 Batch:  781 loss: 0.006365490382909775 Accuracy: 85.97% : 100%|██████████| 782/782 [00:06<00:00, 121.80it/s]\n"
          ]
        },
        {
          "output_type": "stream",
          "name": "stdout",
          "text": [
            " Target Achieved: 85.97399999999999% Test Accuracy !!\n",
            "LR :0.001\n",
            "\n"
          ]
        },
        {
          "output_type": "stream",
          "name": "stderr",
          "text": [
            "Train ==> Epochs: 33 Batch:  781 loss: 0.6060070395469666 Accuracy: 74.78% : 100%|██████████| 782/782 [00:11<00:00, 65.52it/s]\n",
            "Test ==> Epochs: 33 Batch:  781 loss: 0.006376917727589608 Accuracy: 86.05% : 100%|██████████| 782/782 [00:06<00:00, 120.93it/s]\n"
          ]
        },
        {
          "output_type": "stream",
          "name": "stdout",
          "text": [
            " Target Achieved: 86.054% Test Accuracy !!\n",
            "LR :0.001\n",
            "\n"
          ]
        },
        {
          "output_type": "stream",
          "name": "stderr",
          "text": [
            "Train ==> Epochs: 34 Batch:  781 loss: 0.2957701086997986 Accuracy: 74.79% : 100%|██████████| 782/782 [00:11<00:00, 65.28it/s]\n",
            "Test ==> Epochs: 34 Batch:  781 loss: 0.0063179783475399015 Accuracy: 86.25% : 100%|██████████| 782/782 [00:06<00:00, 123.28it/s]\n"
          ]
        },
        {
          "output_type": "stream",
          "name": "stdout",
          "text": [
            " Target Achieved: 86.25399999999999% Test Accuracy !!\n",
            "LR :0.001\n",
            "\n"
          ]
        },
        {
          "output_type": "stream",
          "name": "stderr",
          "text": [
            "Train ==> Epochs: 35 Batch:  781 loss: 0.4100886881351471 Accuracy: 74.97% : 100%|██████████| 782/782 [00:11<00:00, 65.44it/s]\n",
            "Test ==> Epochs: 35 Batch:  781 loss: 0.006358210927248001 Accuracy: 86.02% : 100%|██████████| 782/782 [00:06<00:00, 121.23it/s]\n"
          ]
        },
        {
          "output_type": "stream",
          "name": "stdout",
          "text": [
            "LR :0.001\n",
            "\n"
          ]
        },
        {
          "output_type": "stream",
          "name": "stderr",
          "text": [
            "Train ==> Epochs: 36 Batch:  781 loss: 0.3930988311767578 Accuracy: 75.13% : 100%|██████████| 782/782 [00:12<00:00, 64.98it/s]\n",
            "Test ==> Epochs: 36 Batch:  781 loss: 0.0062552480459213255 Accuracy: 86.42% : 100%|██████████| 782/782 [00:06<00:00, 121.98it/s]\n"
          ]
        },
        {
          "output_type": "stream",
          "name": "stdout",
          "text": [
            " Target Achieved: 86.416% Test Accuracy !!\n",
            "LR :0.001\n",
            "\n"
          ]
        },
        {
          "output_type": "stream",
          "name": "stderr",
          "text": [
            "Train ==> Epochs: 37 Batch:  781 loss: 1.4009865522384644 Accuracy: 74.99% : 100%|██████████| 782/782 [00:11<00:00, 65.53it/s]\n",
            "Test ==> Epochs: 37 Batch:  781 loss: 0.006245193404257297 Accuracy: 86.37% : 100%|██████████| 782/782 [00:06<00:00, 122.98it/s]\n"
          ]
        },
        {
          "output_type": "stream",
          "name": "stdout",
          "text": [
            "LR :0.001\n",
            "\n"
          ]
        },
        {
          "output_type": "stream",
          "name": "stderr",
          "text": [
            "Train ==> Epochs: 38 Batch:  781 loss: 0.4511778950691223 Accuracy: 74.99% : 100%|██████████| 782/782 [00:12<00:00, 65.05it/s]\n",
            "Test ==> Epochs: 38 Batch:  781 loss: 0.006191223467290402 Accuracy: 86.40% : 100%|██████████| 782/782 [00:06<00:00, 120.19it/s]\n"
          ]
        },
        {
          "output_type": "stream",
          "name": "stdout",
          "text": [
            "LR :0.001\n",
            "\n"
          ]
        },
        {
          "output_type": "stream",
          "name": "stderr",
          "text": [
            "Train ==> Epochs: 39 Batch:  781 loss: 0.5155469179153442 Accuracy: 74.96% : 100%|██████████| 782/782 [00:11<00:00, 65.47it/s]\n",
            "Test ==> Epochs: 39 Batch:  781 loss: 0.006217445520460605 Accuracy: 86.30% : 100%|██████████| 782/782 [00:06<00:00, 119.16it/s]\n"
          ]
        },
        {
          "output_type": "stream",
          "name": "stdout",
          "text": [
            "LR :1e-05\n",
            "\n"
          ]
        },
        {
          "output_type": "stream",
          "name": "stderr",
          "text": [
            "Train ==> Epochs: 40 Batch:  781 loss: 0.9440948367118835 Accuracy: 75.32% : 100%|██████████| 782/782 [00:11<00:00, 65.39it/s]\n",
            "Test ==> Epochs: 40 Batch:  781 loss: 0.006073308712542057 Accuracy: 86.71% : 100%|██████████| 782/782 [00:06<00:00, 120.08it/s]\n"
          ]
        },
        {
          "output_type": "stream",
          "name": "stdout",
          "text": [
            " Target Achieved: 86.712% Test Accuracy !!\n",
            "LR :0.0001\n",
            "\n"
          ]
        },
        {
          "output_type": "stream",
          "name": "stderr",
          "text": [
            "Train ==> Epochs: 41 Batch:  781 loss: 0.8044737577438354 Accuracy: 75.37% : 100%|██████████| 782/782 [00:11<00:00, 65.94it/s]\n",
            "Test ==> Epochs: 41 Batch:  781 loss: 0.006062096176147461 Accuracy: 86.67% : 100%|██████████| 782/782 [00:06<00:00, 121.46it/s]\n"
          ]
        },
        {
          "output_type": "stream",
          "name": "stdout",
          "text": [
            "LR :0.0001\n",
            "\n"
          ]
        },
        {
          "output_type": "stream",
          "name": "stderr",
          "text": [
            "Train ==> Epochs: 42 Batch:  781 loss: 0.30805787444114685 Accuracy: 75.50% : 100%|██████████| 782/782 [00:11<00:00, 65.95it/s]\n",
            "Test ==> Epochs: 42 Batch:  781 loss: 0.006072787780165672 Accuracy: 86.71% : 100%|██████████| 782/782 [00:06<00:00, 120.78it/s]\n"
          ]
        },
        {
          "output_type": "stream",
          "name": "stdout",
          "text": [
            "LR :0.0001\n",
            "\n"
          ]
        },
        {
          "output_type": "stream",
          "name": "stderr",
          "text": [
            "Train ==> Epochs: 43 Batch:  781 loss: 1.045821189880371 Accuracy: 75.44% : 100%|██████████| 782/782 [00:12<00:00, 65.02it/s]\n",
            "Test ==> Epochs: 43 Batch:  781 loss: 0.006021449007689953 Accuracy: 86.80% : 100%|██████████| 782/782 [00:06<00:00, 120.77it/s]\n"
          ]
        },
        {
          "output_type": "stream",
          "name": "stdout",
          "text": [
            " Target Achieved: 86.79599999999999% Test Accuracy !!\n",
            "LR :0.0001\n",
            "\n"
          ]
        },
        {
          "output_type": "stream",
          "name": "stderr",
          "text": [
            "Train ==> Epochs: 44 Batch:  781 loss: 0.7466952204704285 Accuracy: 75.48% : 100%|██████████| 782/782 [00:11<00:00, 65.42it/s]\n",
            "Test ==> Epochs: 44 Batch:  781 loss: 0.006003966926336288 Accuracy: 86.84% : 100%|██████████| 782/782 [00:06<00:00, 119.79it/s]\n"
          ]
        },
        {
          "output_type": "stream",
          "name": "stdout",
          "text": [
            " Target Achieved: 86.83800000000001% Test Accuracy !!\n",
            "LR :0.0001\n",
            "\n"
          ]
        },
        {
          "output_type": "stream",
          "name": "stderr",
          "text": [
            "Train ==> Epochs: 45 Batch:  781 loss: 0.4936608076095581 Accuracy: 75.51% : 100%|██████████| 782/782 [00:12<00:00, 64.87it/s]\n",
            "Test ==> Epochs: 45 Batch:  781 loss: 0.005977617429345846 Accuracy: 86.91% : 100%|██████████| 782/782 [00:06<00:00, 120.15it/s]\n"
          ]
        },
        {
          "output_type": "stream",
          "name": "stdout",
          "text": [
            " Target Achieved: 86.908% Test Accuracy !!\n",
            "LR :0.0001\n",
            "\n"
          ]
        },
        {
          "output_type": "stream",
          "name": "stderr",
          "text": [
            "Train ==> Epochs: 46 Batch:  781 loss: 1.3081483840942383 Accuracy: 75.61% : 100%|██████████| 782/782 [00:11<00:00, 65.53it/s]\n",
            "Test ==> Epochs: 46 Batch:  781 loss: 0.006036665637344122 Accuracy: 86.88% : 100%|██████████| 782/782 [00:06<00:00, 118.77it/s]\n"
          ]
        },
        {
          "output_type": "stream",
          "name": "stdout",
          "text": [
            "LR :0.0001\n",
            "\n"
          ]
        },
        {
          "output_type": "stream",
          "name": "stderr",
          "text": [
            "Train ==> Epochs: 47 Batch:  781 loss: 0.41336899995803833 Accuracy: 75.80% : 100%|██████████| 782/782 [00:12<00:00, 64.33it/s]\n",
            "Test ==> Epochs: 47 Batch:  781 loss: 0.0060081572458148 Accuracy: 86.85% : 100%|██████████| 782/782 [00:06<00:00, 119.58it/s]\n"
          ]
        },
        {
          "output_type": "stream",
          "name": "stdout",
          "text": [
            "LR :0.0001\n",
            "\n"
          ]
        },
        {
          "output_type": "stream",
          "name": "stderr",
          "text": [
            "Train ==> Epochs: 48 Batch:  781 loss: 0.5033641457557678 Accuracy: 75.50% : 100%|██████████| 782/782 [00:11<00:00, 65.22it/s]\n",
            "Test ==> Epochs: 48 Batch:  781 loss: 0.005947076123952865 Accuracy: 87.02% : 100%|██████████| 782/782 [00:06<00:00, 119.27it/s]\n"
          ]
        },
        {
          "output_type": "stream",
          "name": "stdout",
          "text": [
            " Target Achieved: 87.024% Test Accuracy !!\n",
            "LR :0.0001\n",
            "\n"
          ]
        },
        {
          "output_type": "stream",
          "name": "stderr",
          "text": [
            "Train ==> Epochs: 49 Batch:  781 loss: 1.160301923751831 Accuracy: 75.78% : 100%|██████████| 782/782 [00:11<00:00, 65.34it/s]\n",
            "Test ==> Epochs: 49 Batch:  781 loss: 0.005983047877401114 Accuracy: 86.96% : 100%|██████████| 782/782 [00:06<00:00, 115.74it/s]\n"
          ]
        },
        {
          "output_type": "stream",
          "name": "stdout",
          "text": [
            "LR :0.0001\n",
            "\n"
          ]
        },
        {
          "output_type": "stream",
          "name": "stderr",
          "text": [
            "Train ==> Epochs: 50 Batch:  781 loss: 1.118735432624817 Accuracy: 75.60% : 100%|██████████| 782/782 [00:12<00:00, 64.63it/s]\n",
            "Test ==> Epochs: 50 Batch:  781 loss: 0.0059847705568373205 Accuracy: 87.01% : 100%|██████████| 782/782 [00:06<00:00, 120.35it/s]\n"
          ]
        },
        {
          "output_type": "stream",
          "name": "stdout",
          "text": [
            "LR :0.0001\n",
            "\n"
          ]
        },
        {
          "output_type": "stream",
          "name": "stderr",
          "text": [
            "Train ==> Epochs: 51 Batch:  781 loss: 0.8146887421607971 Accuracy: 75.81% : 100%|██████████| 782/782 [00:12<00:00, 64.05it/s]\n",
            "Test ==> Epochs: 51 Batch:  781 loss: 0.005942460190951824 Accuracy: 87.06% : 100%|██████████| 782/782 [00:06<00:00, 119.14it/s]\n"
          ]
        },
        {
          "output_type": "stream",
          "name": "stdout",
          "text": [
            " Target Achieved: 87.058% Test Accuracy !!\n",
            "LR :0.0001\n",
            "\n"
          ]
        },
        {
          "output_type": "stream",
          "name": "stderr",
          "text": [
            "Train ==> Epochs: 52 Batch:  781 loss: 0.5491805672645569 Accuracy: 75.58% : 100%|██████████| 782/782 [00:12<00:00, 64.94it/s]\n",
            "Test ==> Epochs: 52 Batch:  781 loss: 0.0059797251518070695 Accuracy: 86.91% : 100%|██████████| 782/782 [00:06<00:00, 121.10it/s]\n"
          ]
        },
        {
          "output_type": "stream",
          "name": "stdout",
          "text": [
            "LR :0.0001\n",
            "\n"
          ]
        },
        {
          "output_type": "stream",
          "name": "stderr",
          "text": [
            "Train ==> Epochs: 53 Batch:  781 loss: 0.8105252385139465 Accuracy: 75.95% : 100%|██████████| 782/782 [00:11<00:00, 65.62it/s]\n",
            "Test ==> Epochs: 53 Batch:  781 loss: 0.0059491441562771795 Accuracy: 86.96% : 100%|██████████| 782/782 [00:06<00:00, 123.05it/s]\n"
          ]
        },
        {
          "output_type": "stream",
          "name": "stdout",
          "text": [
            "LR :0.0001\n",
            "\n"
          ]
        },
        {
          "output_type": "stream",
          "name": "stderr",
          "text": [
            "Train ==> Epochs: 54 Batch:  781 loss: 1.059300184249878 Accuracy: 75.58% : 100%|██████████| 782/782 [00:11<00:00, 65.38it/s]\n",
            "Test ==> Epochs: 54 Batch:  781 loss: 0.00596106662362814 Accuracy: 86.92% : 100%|██████████| 782/782 [00:06<00:00, 120.11it/s]\n"
          ]
        },
        {
          "output_type": "stream",
          "name": "stdout",
          "text": [
            "LR :0.0001\n",
            "\n"
          ]
        },
        {
          "output_type": "stream",
          "name": "stderr",
          "text": [
            "Train ==> Epochs: 55 Batch:  781 loss: 0.8954349756240845 Accuracy: 75.94% : 100%|██████████| 782/782 [00:11<00:00, 65.98it/s]\n",
            "Test ==> Epochs: 55 Batch:  781 loss: 0.005917549819350242 Accuracy: 87.13% : 100%|██████████| 782/782 [00:06<00:00, 119.87it/s]\n"
          ]
        },
        {
          "output_type": "stream",
          "name": "stdout",
          "text": [
            " Target Achieved: 87.128% Test Accuracy !!\n",
            "LR :0.0001\n",
            "\n"
          ]
        },
        {
          "output_type": "stream",
          "name": "stderr",
          "text": [
            "Train ==> Epochs: 56 Batch:  781 loss: 0.7597824335098267 Accuracy: 75.70% : 100%|██████████| 782/782 [00:11<00:00, 65.78it/s]\n",
            "Test ==> Epochs: 56 Batch:  781 loss: 0.00596633056819439 Accuracy: 86.89% : 100%|██████████| 782/782 [00:06<00:00, 121.00it/s]\n"
          ]
        },
        {
          "output_type": "stream",
          "name": "stdout",
          "text": [
            "LR :0.0001\n",
            "\n"
          ]
        },
        {
          "output_type": "stream",
          "name": "stderr",
          "text": [
            "Train ==> Epochs: 57 Batch:  781 loss: 0.8969327807426453 Accuracy: 75.65% : 100%|██████████| 782/782 [00:11<00:00, 65.33it/s]\n",
            "Test ==> Epochs: 57 Batch:  781 loss: 0.005944231112003326 Accuracy: 86.98% : 100%|██████████| 782/782 [00:06<00:00, 119.95it/s]\n"
          ]
        },
        {
          "output_type": "stream",
          "name": "stdout",
          "text": [
            "LR :0.0001\n",
            "\n"
          ]
        },
        {
          "output_type": "stream",
          "name": "stderr",
          "text": [
            "Train ==> Epochs: 58 Batch:  781 loss: 0.6331477165222168 Accuracy: 76.02% : 100%|██████████| 782/782 [00:12<00:00, 65.04it/s]\n",
            "Test ==> Epochs: 58 Batch:  781 loss: 0.0059232374335825445 Accuracy: 87.10% : 100%|██████████| 782/782 [00:06<00:00, 119.31it/s]\n"
          ]
        },
        {
          "output_type": "stream",
          "name": "stdout",
          "text": [
            "LR :0.0001\n",
            "\n"
          ]
        },
        {
          "output_type": "stream",
          "name": "stderr",
          "text": [
            "Train ==> Epochs: 59 Batch:  781 loss: 0.523855447769165 Accuracy: 75.61% : 100%|██████████| 782/782 [00:12<00:00, 64.79it/s]\n",
            "Test ==> Epochs: 59 Batch:  781 loss: 0.005928197713941335 Accuracy: 87.05% : 100%|██████████| 782/782 [00:06<00:00, 119.08it/s]\n"
          ]
        },
        {
          "output_type": "stream",
          "name": "stdout",
          "text": [
            "LR :1.0000000000000002e-06\n",
            "\n"
          ]
        },
        {
          "output_type": "stream",
          "name": "stderr",
          "text": [
            "Train ==> Epochs: 60 Batch:  781 loss: 0.5686931610107422 Accuracy: 75.64% : 100%|██████████| 782/782 [00:12<00:00, 64.55it/s]\n",
            "Test ==> Epochs: 60 Batch:  781 loss: 0.005911548537313938 Accuracy: 87.05% : 100%|██████████| 782/782 [00:06<00:00, 119.17it/s]\n"
          ]
        },
        {
          "output_type": "stream",
          "name": "stdout",
          "text": [
            "LR :1e-05\n",
            "\n"
          ]
        },
        {
          "output_type": "stream",
          "name": "stderr",
          "text": [
            "Train ==> Epochs: 61 Batch:  781 loss: 0.7534257173538208 Accuracy: 75.67% : 100%|██████████| 782/782 [00:11<00:00, 65.29it/s]\n",
            "Test ==> Epochs: 61 Batch:  781 loss: 0.005894347031861544 Accuracy: 87.08% : 100%|██████████| 782/782 [00:06<00:00, 117.64it/s]\n"
          ]
        },
        {
          "output_type": "stream",
          "name": "stdout",
          "text": [
            "LR :1e-05\n",
            "\n"
          ]
        },
        {
          "output_type": "stream",
          "name": "stderr",
          "text": [
            "Train ==> Epochs: 62 Batch:  781 loss: 0.3714528977870941 Accuracy: 75.88% : 100%|██████████| 782/782 [00:12<00:00, 64.78it/s]\n",
            "Test ==> Epochs: 62 Batch:  781 loss: 0.005905621487647295 Accuracy: 87.11% : 100%|██████████| 782/782 [00:06<00:00, 119.22it/s]\n"
          ]
        },
        {
          "output_type": "stream",
          "name": "stdout",
          "text": [
            "LR :1e-05\n",
            "\n"
          ]
        },
        {
          "output_type": "stream",
          "name": "stderr",
          "text": [
            "Train ==> Epochs: 63 Batch:  781 loss: 0.330064058303833 Accuracy: 75.92% : 100%|██████████| 782/782 [00:11<00:00, 65.19it/s]\n",
            "Test ==> Epochs: 63 Batch:  781 loss: 0.00591236522257328 Accuracy: 87.15% : 100%|██████████| 782/782 [00:06<00:00, 118.83it/s]\n"
          ]
        },
        {
          "output_type": "stream",
          "name": "stdout",
          "text": [
            " Target Achieved: 87.154% Test Accuracy !!\n",
            "LR :1e-05\n",
            "\n"
          ]
        },
        {
          "output_type": "stream",
          "name": "stderr",
          "text": [
            "Train ==> Epochs: 64 Batch:  781 loss: 0.8436371088027954 Accuracy: 75.71% : 100%|██████████| 782/782 [00:11<00:00, 65.32it/s]\n",
            "Test ==> Epochs: 64 Batch:  781 loss: 0.0059084505648911 Accuracy: 87.11% : 100%|██████████| 782/782 [00:06<00:00, 119.04it/s]\n"
          ]
        },
        {
          "output_type": "stream",
          "name": "stdout",
          "text": [
            "LR :1e-05\n",
            "\n"
          ]
        },
        {
          "output_type": "stream",
          "name": "stderr",
          "text": [
            "Train ==> Epochs: 65 Batch:  781 loss: 0.8462963104248047 Accuracy: 75.67% : 100%|██████████| 782/782 [00:11<00:00, 65.57it/s]\n",
            "Test ==> Epochs: 65 Batch:  781 loss: 0.005899197958111763 Accuracy: 87.19% : 100%|██████████| 782/782 [00:06<00:00, 119.94it/s]\n"
          ]
        },
        {
          "output_type": "stream",
          "name": "stdout",
          "text": [
            " Target Achieved: 87.18599999999999% Test Accuracy !!\n",
            "LR :1e-05\n",
            "\n"
          ]
        },
        {
          "output_type": "stream",
          "name": "stderr",
          "text": [
            "Train ==> Epochs: 66 Batch:  781 loss: 0.552302360534668 Accuracy: 75.45% : 100%|██████████| 782/782 [00:12<00:00, 64.83it/s]\n",
            "Test ==> Epochs: 66 Batch:  781 loss: 0.005883831302374601 Accuracy: 87.17% : 100%|██████████| 782/782 [00:06<00:00, 117.38it/s]\n"
          ]
        },
        {
          "output_type": "stream",
          "name": "stdout",
          "text": [
            "LR :1e-05\n",
            "\n"
          ]
        },
        {
          "output_type": "stream",
          "name": "stderr",
          "text": [
            "Train ==> Epochs: 67 Batch:  781 loss: 1.1398990154266357 Accuracy: 75.86% : 100%|██████████| 782/782 [00:12<00:00, 64.45it/s]\n",
            "Test ==> Epochs: 67 Batch:  781 loss: 0.005930914817452431 Accuracy: 87.06% : 100%|██████████| 782/782 [00:06<00:00, 117.61it/s]\n"
          ]
        },
        {
          "output_type": "stream",
          "name": "stdout",
          "text": [
            "LR :1e-05\n",
            "\n"
          ]
        },
        {
          "output_type": "stream",
          "name": "stderr",
          "text": [
            "Train ==> Epochs: 68 Batch:  781 loss: 0.5299983024597168 Accuracy: 75.97% : 100%|██████████| 782/782 [00:12<00:00, 64.12it/s]\n",
            "Test ==> Epochs: 68 Batch:  781 loss: 0.005935931515842676 Accuracy: 86.94% : 100%|██████████| 782/782 [00:06<00:00, 118.89it/s]\n"
          ]
        },
        {
          "output_type": "stream",
          "name": "stdout",
          "text": [
            "LR :1e-05\n",
            "\n"
          ]
        },
        {
          "output_type": "stream",
          "name": "stderr",
          "text": [
            "Train ==> Epochs: 69 Batch:  781 loss: 0.7506022453308105 Accuracy: 76.01% : 100%|██████████| 782/782 [00:12<00:00, 64.66it/s]\n",
            "Test ==> Epochs: 69 Batch:  781 loss: 0.005932492961883545 Accuracy: 87.07% : 100%|██████████| 782/782 [00:06<00:00, 116.98it/s]\n"
          ]
        },
        {
          "output_type": "stream",
          "name": "stdout",
          "text": [
            "LR :1e-05\n",
            "\n"
          ]
        },
        {
          "output_type": "stream",
          "name": "stderr",
          "text": [
            "Train ==> Epochs: 70 Batch:  781 loss: 0.835993766784668 Accuracy: 75.78% : 100%|██████████| 782/782 [00:12<00:00, 64.46it/s]\n",
            "Test ==> Epochs: 70 Batch:  781 loss: 0.0059306007346510885 Accuracy: 87.02% : 100%|██████████| 782/782 [00:06<00:00, 117.90it/s]\n"
          ]
        },
        {
          "output_type": "stream",
          "name": "stdout",
          "text": [
            "LR :1e-05\n",
            "\n"
          ]
        },
        {
          "output_type": "stream",
          "name": "stderr",
          "text": [
            "Train ==> Epochs: 71 Batch:  781 loss: 0.6282275915145874 Accuracy: 75.93% : 100%|██████████| 782/782 [00:12<00:00, 64.94it/s]\n",
            "Test ==> Epochs: 71 Batch:  781 loss: 0.005891728469282389 Accuracy: 87.15% : 100%|██████████| 782/782 [00:06<00:00, 115.66it/s]\n"
          ]
        },
        {
          "output_type": "stream",
          "name": "stdout",
          "text": [
            "LR :1e-05\n",
            "\n"
          ]
        },
        {
          "output_type": "stream",
          "name": "stderr",
          "text": [
            "Train ==> Epochs: 72 Batch:  781 loss: 0.45932647585868835 Accuracy: 75.71% : 100%|██████████| 782/782 [00:11<00:00, 65.35it/s]\n",
            "Test ==> Epochs: 72 Batch:  781 loss: 0.005926796565055847 Accuracy: 87.07% : 100%|██████████| 782/782 [00:06<00:00, 117.94it/s]\n"
          ]
        },
        {
          "output_type": "stream",
          "name": "stdout",
          "text": [
            "LR :1e-05\n",
            "\n"
          ]
        },
        {
          "output_type": "stream",
          "name": "stderr",
          "text": [
            "Train ==> Epochs: 73 Batch:  781 loss: 0.5848042368888855 Accuracy: 75.79% : 100%|██████████| 782/782 [00:11<00:00, 65.52it/s]\n",
            "Test ==> Epochs: 73 Batch:  781 loss: 0.005879318452179432 Accuracy: 87.15% : 100%|██████████| 782/782 [00:06<00:00, 117.59it/s]\n"
          ]
        },
        {
          "output_type": "stream",
          "name": "stdout",
          "text": [
            "LR :1e-05\n",
            "\n"
          ]
        },
        {
          "output_type": "stream",
          "name": "stderr",
          "text": [
            "Train ==> Epochs: 74 Batch:  781 loss: 0.8590382933616638 Accuracy: 75.94% : 100%|██████████| 782/782 [00:12<00:00, 64.47it/s]\n",
            "Test ==> Epochs: 74 Batch:  781 loss: 0.005907874914854765 Accuracy: 87.07% : 100%|██████████| 782/782 [00:06<00:00, 116.62it/s]\n"
          ]
        },
        {
          "output_type": "stream",
          "name": "stdout",
          "text": [
            "LR :1e-05\n",
            "\n"
          ]
        },
        {
          "output_type": "stream",
          "name": "stderr",
          "text": [
            "Train ==> Epochs: 75 Batch:  781 loss: 0.3511428236961365 Accuracy: 75.86% : 100%|██████████| 782/782 [00:12<00:00, 64.58it/s]\n",
            "Test ==> Epochs: 75 Batch:  781 loss: 0.005900405634790659 Accuracy: 87.11% : 100%|██████████| 782/782 [00:06<00:00, 119.00it/s]\n"
          ]
        },
        {
          "output_type": "stream",
          "name": "stdout",
          "text": [
            "LR :1e-05\n",
            "\n"
          ]
        },
        {
          "output_type": "stream",
          "name": "stderr",
          "text": [
            "Train ==> Epochs: 76 Batch:  781 loss: 0.9838144779205322 Accuracy: 75.67% : 100%|██████████| 782/782 [00:12<00:00, 64.75it/s]\n",
            "Test ==> Epochs: 76 Batch:  781 loss: 0.0059294175881147385 Accuracy: 87.04% : 100%|██████████| 782/782 [00:06<00:00, 120.14it/s]\n"
          ]
        },
        {
          "output_type": "stream",
          "name": "stdout",
          "text": [
            "LR :1e-05\n",
            "\n"
          ]
        },
        {
          "output_type": "stream",
          "name": "stderr",
          "text": [
            "Train ==> Epochs: 77 Batch:  781 loss: 0.8414644002914429 Accuracy: 76.02% : 100%|██████████| 782/782 [00:11<00:00, 65.65it/s]\n",
            "Test ==> Epochs: 77 Batch:  781 loss: 0.005894449927508831 Accuracy: 87.08% : 100%|██████████| 782/782 [00:06<00:00, 120.11it/s]\n"
          ]
        },
        {
          "output_type": "stream",
          "name": "stdout",
          "text": [
            "LR :1e-05\n",
            "\n"
          ]
        },
        {
          "output_type": "stream",
          "name": "stderr",
          "text": [
            "Train ==> Epochs: 78 Batch:  781 loss: 1.0182524919509888 Accuracy: 75.78% : 100%|██████████| 782/782 [00:11<00:00, 65.18it/s]\n",
            "Test ==> Epochs: 78 Batch:  781 loss: 0.005877086326777935 Accuracy: 87.25% : 100%|██████████| 782/782 [00:06<00:00, 117.42it/s]\n"
          ]
        },
        {
          "output_type": "stream",
          "name": "stdout",
          "text": [
            " Target Achieved: 87.254% Test Accuracy !!\n",
            "LR :1e-05\n",
            "\n"
          ]
        },
        {
          "output_type": "stream",
          "name": "stderr",
          "text": [
            "Train ==> Epochs: 79 Batch:  781 loss: 0.7521849870681763 Accuracy: 75.96% : 100%|██████████| 782/782 [00:12<00:00, 65.09it/s]\n",
            "Test ==> Epochs: 79 Batch:  781 loss: 0.005918328923285007 Accuracy: 87.07% : 100%|██████████| 782/782 [00:06<00:00, 118.95it/s]\n"
          ]
        },
        {
          "output_type": "stream",
          "name": "stdout",
          "text": [
            "LR :1.0000000000000002e-07\n",
            "\n"
          ]
        },
        {
          "output_type": "stream",
          "name": "stderr",
          "text": [
            "Train ==> Epochs: 80 Batch:  781 loss: 1.455641269683838 Accuracy: 75.74% : 100%|██████████| 782/782 [00:12<00:00, 64.68it/s]\n",
            "Test ==> Epochs: 80 Batch:  781 loss: 0.005908607164770365 Accuracy: 86.97% : 100%|██████████| 782/782 [00:06<00:00, 117.77it/s]\n"
          ]
        },
        {
          "output_type": "stream",
          "name": "stdout",
          "text": [
            "LR :1.0000000000000002e-06\n",
            "\n"
          ]
        },
        {
          "output_type": "stream",
          "name": "stderr",
          "text": [
            "Train ==> Epochs: 81 Batch:  781 loss: 0.7204427719116211 Accuracy: 75.56% : 100%|██████████| 782/782 [00:11<00:00, 65.49it/s]\n",
            "Test ==> Epochs: 81 Batch:  781 loss: 0.005918810147345066 Accuracy: 87.02% : 100%|██████████| 782/782 [00:06<00:00, 118.85it/s]\n"
          ]
        },
        {
          "output_type": "stream",
          "name": "stdout",
          "text": [
            "LR :1.0000000000000002e-06\n",
            "\n"
          ]
        },
        {
          "output_type": "stream",
          "name": "stderr",
          "text": [
            "Train ==> Epochs: 82 Batch:  781 loss: 0.8108135461807251 Accuracy: 75.61% : 100%|██████████| 782/782 [00:12<00:00, 64.53it/s]\n",
            "Test ==> Epochs: 82 Batch:  781 loss: 0.005910899148881436 Accuracy: 87.09% : 100%|██████████| 782/782 [00:06<00:00, 118.20it/s]\n"
          ]
        },
        {
          "output_type": "stream",
          "name": "stdout",
          "text": [
            "LR :1.0000000000000002e-06\n",
            "\n"
          ]
        },
        {
          "output_type": "stream",
          "name": "stderr",
          "text": [
            "Train ==> Epochs: 83 Batch:  781 loss: 0.889755129814148 Accuracy: 75.62% : 100%|██████████| 782/782 [00:11<00:00, 65.29it/s]\n",
            "Test ==> Epochs: 83 Batch:  781 loss: 0.005916790647506714 Accuracy: 87.12% : 100%|██████████| 782/782 [00:06<00:00, 118.31it/s]\n"
          ]
        },
        {
          "output_type": "stream",
          "name": "stdout",
          "text": [
            "LR :1.0000000000000002e-06\n",
            "\n"
          ]
        },
        {
          "output_type": "stream",
          "name": "stderr",
          "text": [
            "Train ==> Epochs: 84 Batch:  781 loss: 0.8974472284317017 Accuracy: 75.87% : 100%|██████████| 782/782 [00:12<00:00, 64.74it/s]\n",
            "Test ==> Epochs: 84 Batch:  781 loss: 0.005915040014386177 Accuracy: 87.13% : 100%|██████████| 782/782 [00:06<00:00, 117.30it/s]\n"
          ]
        },
        {
          "output_type": "stream",
          "name": "stdout",
          "text": [
            "LR :1.0000000000000002e-06\n",
            "\n"
          ]
        },
        {
          "output_type": "stream",
          "name": "stderr",
          "text": [
            "Train ==> Epochs: 85 Batch:  781 loss: 0.9763001203536987 Accuracy: 76.10% : 100%|██████████| 782/782 [00:11<00:00, 65.53it/s]\n",
            "Test ==> Epochs: 85 Batch:  781 loss: 0.005905424897670746 Accuracy: 87.16% : 100%|██████████| 782/782 [00:06<00:00, 119.46it/s]\n"
          ]
        },
        {
          "output_type": "stream",
          "name": "stdout",
          "text": [
            "LR :1.0000000000000002e-06\n",
            "\n"
          ]
        },
        {
          "output_type": "stream",
          "name": "stderr",
          "text": [
            "Train ==> Epochs: 86 Batch:  781 loss: 0.5970685482025146 Accuracy: 75.53% : 100%|██████████| 782/782 [00:12<00:00, 64.26it/s]\n",
            "Test ==> Epochs: 86 Batch:  781 loss: 0.005878007119745016 Accuracy: 87.24% : 100%|██████████| 782/782 [00:06<00:00, 117.97it/s]\n"
          ]
        },
        {
          "output_type": "stream",
          "name": "stdout",
          "text": [
            "LR :1.0000000000000002e-06\n",
            "\n"
          ]
        },
        {
          "output_type": "stream",
          "name": "stderr",
          "text": [
            "Train ==> Epochs: 87 Batch:  781 loss: 0.7109557390213013 Accuracy: 75.58% : 100%|██████████| 782/782 [00:11<00:00, 65.45it/s]\n",
            "Test ==> Epochs: 87 Batch:  781 loss: 0.005914917533099652 Accuracy: 87.12% : 100%|██████████| 782/782 [00:06<00:00, 118.09it/s]\n"
          ]
        },
        {
          "output_type": "stream",
          "name": "stdout",
          "text": [
            "LR :1.0000000000000002e-06\n",
            "\n"
          ]
        },
        {
          "output_type": "stream",
          "name": "stderr",
          "text": [
            "Train ==> Epochs: 88 Batch:  781 loss: 1.2247257232666016 Accuracy: 75.83% : 100%|██████████| 782/782 [00:12<00:00, 64.59it/s]\n",
            "Test ==> Epochs: 88 Batch:  781 loss: 0.005905554319024086 Accuracy: 87.13% : 100%|██████████| 782/782 [00:06<00:00, 118.86it/s]\n"
          ]
        },
        {
          "output_type": "stream",
          "name": "stdout",
          "text": [
            "LR :1.0000000000000002e-06\n",
            "\n"
          ]
        },
        {
          "output_type": "stream",
          "name": "stderr",
          "text": [
            "Train ==> Epochs: 89 Batch:  781 loss: 0.7258458137512207 Accuracy: 75.95% : 100%|██████████| 782/782 [00:12<00:00, 64.70it/s]\n",
            "Test ==> Epochs: 89 Batch:  781 loss: 0.0058800093661248685 Accuracy: 87.16% : 100%|██████████| 782/782 [00:06<00:00, 120.97it/s]\n"
          ]
        },
        {
          "output_type": "stream",
          "name": "stdout",
          "text": [
            "LR :1.0000000000000002e-06\n",
            "\n"
          ]
        },
        {
          "output_type": "stream",
          "name": "stderr",
          "text": [
            "Train ==> Epochs: 90 Batch:  781 loss: 0.8618457317352295 Accuracy: 75.64% : 100%|██████████| 782/782 [00:12<00:00, 64.95it/s]\n",
            "Test ==> Epochs: 90 Batch:  781 loss: 0.005953271128833294 Accuracy: 86.96% : 100%|██████████| 782/782 [00:06<00:00, 117.19it/s]\n"
          ]
        },
        {
          "output_type": "stream",
          "name": "stdout",
          "text": [
            "LR :1.0000000000000002e-06\n",
            "\n"
          ]
        },
        {
          "output_type": "stream",
          "name": "stderr",
          "text": [
            "Train ==> Epochs: 91 Batch:  781 loss: 0.604485273361206 Accuracy: 75.77% : 100%|██████████| 782/782 [00:12<00:00, 65.16it/s]\n",
            "Test ==> Epochs: 91 Batch:  781 loss: 0.0059422366113960744 Accuracy: 87.03% : 100%|██████████| 782/782 [00:06<00:00, 117.91it/s]\n"
          ]
        },
        {
          "output_type": "stream",
          "name": "stdout",
          "text": [
            "LR :1.0000000000000002e-06\n",
            "\n"
          ]
        },
        {
          "output_type": "stream",
          "name": "stderr",
          "text": [
            "Train ==> Epochs: 92 Batch:  781 loss: 0.7028489708900452 Accuracy: 75.86% : 100%|██████████| 782/782 [00:12<00:00, 64.46it/s]\n",
            "Test ==> Epochs: 92 Batch:  781 loss: 0.005911801026761532 Accuracy: 87.17% : 100%|██████████| 782/782 [00:06<00:00, 119.23it/s]\n"
          ]
        },
        {
          "output_type": "stream",
          "name": "stdout",
          "text": [
            "LR :1.0000000000000002e-06\n",
            "\n"
          ]
        },
        {
          "output_type": "stream",
          "name": "stderr",
          "text": [
            "Train ==> Epochs: 93 Batch:  781 loss: 0.30152416229248047 Accuracy: 75.92% : 100%|██████████| 782/782 [00:12<00:00, 64.35it/s]\n",
            "Test ==> Epochs: 93 Batch:  781 loss: 0.005918293204903603 Accuracy: 87.11% : 100%|██████████| 782/782 [00:06<00:00, 118.97it/s]\n"
          ]
        },
        {
          "output_type": "stream",
          "name": "stdout",
          "text": [
            "LR :1.0000000000000002e-06\n",
            "\n"
          ]
        },
        {
          "output_type": "stream",
          "name": "stderr",
          "text": [
            "Train ==> Epochs: 94 Batch:  781 loss: 1.027443766593933 Accuracy: 75.53% : 100%|██████████| 782/782 [00:12<00:00, 64.87it/s]\n",
            "Test ==> Epochs: 94 Batch:  781 loss: 0.005898891885876656 Accuracy: 87.08% : 100%|██████████| 782/782 [00:06<00:00, 117.64it/s]\n"
          ]
        },
        {
          "output_type": "stream",
          "name": "stdout",
          "text": [
            "LR :1.0000000000000002e-06\n",
            "\n"
          ]
        },
        {
          "output_type": "stream",
          "name": "stderr",
          "text": [
            "Train ==> Epochs: 95 Batch:  781 loss: 1.4447367191314697 Accuracy: 75.75% : 100%|██████████| 782/782 [00:12<00:00, 64.88it/s]\n",
            "Test ==> Epochs: 95 Batch:  781 loss: 0.005897863756716251 Accuracy: 87.11% : 100%|██████████| 782/782 [00:06<00:00, 119.06it/s]\n"
          ]
        },
        {
          "output_type": "stream",
          "name": "stdout",
          "text": [
            "LR :1.0000000000000002e-06\n",
            "\n"
          ]
        },
        {
          "output_type": "stream",
          "name": "stderr",
          "text": [
            "Train ==> Epochs: 96 Batch:  781 loss: 0.5935152173042297 Accuracy: 75.81% : 100%|██████████| 782/782 [00:11<00:00, 65.30it/s]\n",
            "Test ==> Epochs: 96 Batch:  781 loss: 0.005909207424968481 Accuracy: 87.10% : 100%|██████████| 782/782 [00:06<00:00, 118.19it/s]\n"
          ]
        },
        {
          "output_type": "stream",
          "name": "stdout",
          "text": [
            "LR :1.0000000000000002e-06\n",
            "\n"
          ]
        },
        {
          "output_type": "stream",
          "name": "stderr",
          "text": [
            "Train ==> Epochs: 97 Batch:  781 loss: 0.5441852807998657 Accuracy: 75.67% : 100%|██████████| 782/782 [00:12<00:00, 64.48it/s]\n",
            "Test ==> Epochs: 97 Batch:  781 loss: 0.005888683015108109 Accuracy: 87.12% : 100%|██████████| 782/782 [00:06<00:00, 118.31it/s]\n"
          ]
        },
        {
          "output_type": "stream",
          "name": "stdout",
          "text": [
            "LR :1.0000000000000002e-06\n",
            "\n"
          ]
        },
        {
          "output_type": "stream",
          "name": "stderr",
          "text": [
            "Train ==> Epochs: 98 Batch:  781 loss: 0.8551579713821411 Accuracy: 76.07% : 100%|██████████| 782/782 [00:11<00:00, 65.46it/s]\n",
            "Test ==> Epochs: 98 Batch:  781 loss: 0.005918445792347193 Accuracy: 87.05% : 100%|██████████| 782/782 [00:06<00:00, 119.81it/s]\n"
          ]
        },
        {
          "output_type": "stream",
          "name": "stdout",
          "text": [
            "LR :1.0000000000000002e-06\n",
            "\n"
          ]
        },
        {
          "output_type": "stream",
          "name": "stderr",
          "text": [
            "Train ==> Epochs: 99 Batch:  781 loss: 0.5299875736236572 Accuracy: 75.73% : 100%|██████████| 782/782 [00:12<00:00, 64.68it/s]\n",
            "Test ==> Epochs: 99 Batch:  781 loss: 0.005895382307469845 Accuracy: 87.12% : 100%|██████████| 782/782 [00:06<00:00, 116.33it/s]\n"
          ]
        },
        {
          "output_type": "stream",
          "name": "stdout",
          "text": [
            "LR :1.0000000000000004e-08\n",
            "\n"
          ]
        },
        {
          "output_type": "display_data",
          "data": {
            "text/plain": [
              "<Figure size 720x360 with 0 Axes>"
            ]
          },
          "metadata": {}
        },
        {
          "output_type": "display_data",
          "data": {
            "image/png": "[encoded data removed]",
            "text/plain": [
              "<Figure size 1440x360 with 2 Axes>"
            ]
          },
          "metadata": {
            "needs_background": "light"
          }
        },
        {
          "output_type": "display_data",
          "data": {
            "image/png": "[encoded data removed]",
            "text/plain": [
              "<Figure size 900x720 with 10 Axes>"
            ]
          },
          "metadata": {
            "needs_background": "light"
          }
        }
      ],
      "source": [
        "if __name__ == \"__main__\":\n",
        "    batch_size = 64\n",
        "    epochs = 100\n",
        "\n",
        "    _=torch.manual_seed(1)\n",
        "    if torch.cuda.is_available():\n",
        "        _=torch.cuda.manual_seed(1)\n",
        "\n",
        "    train,test = get_data()\n",
        "    #take input as normal_type ['gbn','bn','gn','ln']\n",
        "    # To Un Normalize the test data\n",
        "    mean,std  = get_data_stats(test,train,img_norm_typ ='train+test',plot = False)\n",
        "    \n",
        "    # # Advanced Normalization\n",
        "    train_transform =A.Compose([A.Resize(32,32),\n",
        "                                A.Normalize(mean = mean,std = std,max_pixel_value=255,always_apply = True),\n",
        "                                 A.ShiftScaleRotate(always_apply=False),\n",
        "                                 A.CoarseDropout(always_apply = False,max_holes = 1, max_height=16, max_width=16, min_holes = 1, min_height=16, min_width=16, fill_value=mean, mask_fill_value = None),\n",
        "                                ToTensorV2(transpose_mask =False),\n",
        "                                 ])      \n",
        "    test_transform = A.Compose([A.Resize(32,32),\n",
        "                                 A.Normalize(mean = mean,std = std,max_pixel_value=255,always_apply = True),\n",
        "                               ToTensorV2(transpose_mask =False), ])\n",
        "                               \n",
        "    train_alb = AlbumDataset(train,train_transform)\n",
        "    test_alb = AlbumDataset(test,test_transform)\n",
        "\n",
        "    args = {'pin_memory':True,'num_workers':4} if torch.cuda.is_available() else {}\n",
        "    train_loader = DataLoader(train_alb,batch_size=batch_size,shuffle = True,**args)\n",
        "    test_loader = DataLoader(test_alb,batch_size=batch_size,**args)\n",
        "    # ['gbn','bn','gn','ln']\n",
        "    try_type = ['bn']\n",
        "    for norm_type in try_type:\n",
        "\n",
        "        model_class = Cifar10Net1(dropout_val=0.00,norm_type=norm_type)\n",
        "        model,train_losses, train_accuracy,test_losses,test_accuracy = Run_Model(model_class,train_loader,test_loader,epochs =epochs)\n",
        "\n",
        "        plot_acc_loss(norm_type ,train_accuracy,train_losses,test_accuracy,test_losses)\n",
        "        clean_gpu()\n",
        "\n",
        "        print_wrong_image(model,test_loader,mean,std,2,5)\n",
        "        clean_gpu()"
      ]
    }
  ],
  "metadata": {
    "accelerator": "GPU",
    "colab": {
      "collapsed_sections": [],
      "machine_shape": "hm",
      "name": "Cifar10_resnet_19th.ipynb",
      "provenance": []
    },
    "kernelspec": {
      "display_name": "Python 3",
      "name": "python3"
    },
    "language_info": {
      "name": "python"
    }
  },
  "nbformat": 4,
  "nbformat_minor": 0
}